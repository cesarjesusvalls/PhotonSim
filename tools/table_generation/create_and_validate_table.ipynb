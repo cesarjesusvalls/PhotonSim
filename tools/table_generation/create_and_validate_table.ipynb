{
 "cells": [
  {
   "cell_type": "code",
   "execution_count": null,
   "id": "1f3759b8-3f31-4cbe-a53a-9775845a445d",
   "metadata": {},
   "outputs": [],
   "source": [
    "from create_density_3d_table import *\n",
    "from check_root_files import *"
   ]
  },
  {
   "cell_type": "code",
   "execution_count": null,
   "id": "b24b8fe1-208e-4ed7-9769-7c6d69dca953",
   "metadata": {},
   "outputs": [],
   "source": [
    "datadir = '/sdf/home/c/cjesus/Dev/PhotonSim/data/mu-/'\n",
    "outdir = '/sdf/home/c/cjesus/Dev/lookup_tables/mu-/'"
   ]
  },
  {
   "cell_type": "code",
   "execution_count": null,
   "id": "4a785403-e7bc-4253-b98c-f279df145a94",
   "metadata": {},
   "outputs": [],
   "source": [
    "check_root_files(datadir)"
   ]
  },
  {
   "cell_type": "code",
   "execution_count": null,
   "id": "0dcb12e9-8ec6-4b95-90d0-0e46f35b5566",
   "metadata": {},
   "outputs": [],
   "source": [
    "# Create table builder\n",
    "table_builder = DensityPhotonTable3D(\n",
    "    energy_min=100,\n",
    "    energy_max=1000,\n",
    "    energy_step=10\n",
    ")\n",
    "\n",
    "# Build the 3D table\n",
    "table_builder.create_3d_table(datadir)\n",
    "\n",
    "# Save the table\n",
    "table_builder.save_table(outdir)\n",
    "\n",
    "print(\"\\nDone! Density-normalized 3D lookup table created successfully.\")"
   ]
  },
  {
   "cell_type": "code",
   "execution_count": null,
   "id": "24624055-3fba-498c-94db-5461a8d7c294",
   "metadata": {},
   "outputs": [],
   "source": [
    "table_builder.visualize_table(outdir)"
   ]
  },
  {
   "cell_type": "code",
   "execution_count": null,
   "id": "ab063b39-a21b-4f0b-9c88-919e241cb2ec",
   "metadata": {},
   "outputs": [],
   "source": []
  }
 ],
 "metadata": {
  "kernelspec": {
   "display_name": "Python 3",
   "language": "python",
   "name": "python3"
  },
  "language_info": {
   "codemirror_mode": {
    "name": "ipython",
    "version": 3
   },
   "file_extension": ".py",
   "mimetype": "text/x-python",
   "name": "python",
   "nbconvert_exporter": "python",
   "pygments_lexer": "ipython3",
   "version": "3.10.12"
  }
 },
 "nbformat": 4,
 "nbformat_minor": 5
}
