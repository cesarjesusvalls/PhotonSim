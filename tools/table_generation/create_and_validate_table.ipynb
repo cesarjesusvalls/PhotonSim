{
 "cells": [
  {
   "cell_type": "code",
   "execution_count": 1,
   "id": "1f3759b8-3f31-4cbe-a53a-9775845a445d",
   "metadata": {},
   "outputs": [
    {
     "ename": "ModuleNotFoundError",
     "evalue": "No module named 'create_density_3d_table'",
     "output_type": "error",
     "traceback": [
      "\u001b[31m---------------------------------------------------------------------------\u001b[39m",
      "\u001b[31mModuleNotFoundError\u001b[39m                       Traceback (most recent call last)",
      "\u001b[36mCell\u001b[39m\u001b[36m \u001b[39m\u001b[32mIn[1]\u001b[39m\u001b[32m, line 1\u001b[39m\n\u001b[32m----> \u001b[39m\u001b[32m1\u001b[39m \u001b[38;5;28;01mfrom\u001b[39;00m\u001b[38;5;250m \u001b[39m\u001b[34;01mcreate_density_3d_table\u001b[39;00m\u001b[38;5;250m \u001b[39m\u001b[38;5;28;01mimport\u001b[39;00m *\n\u001b[32m      2\u001b[39m \u001b[38;5;28;01mfrom\u001b[39;00m\u001b[38;5;250m \u001b[39m\u001b[34;01mcheck_root_files\u001b[39;00m\u001b[38;5;250m \u001b[39m\u001b[38;5;28;01mimport\u001b[39;00m *\n",
      "\u001b[31mModuleNotFoundError\u001b[39m: No module named 'create_density_3d_table'"
     ]
    }
   ],
   "source": [
    "from create_density_3d_table import *\n",
    "from check_root_files import *"
   ]
  },
  {
   "cell_type": "code",
   "execution_count": null,
   "id": "b24b8fe1-208e-4ed7-9769-7c6d69dca953",
   "metadata": {},
   "outputs": [],
   "source": [
    "datadir = '/sdf/home/c/cjesus/Dev/PhotonSim/data/mu-/'\n",
    "outdir = '/sdf/home/c/cjesus/Dev/lookup_tables/mu-/'"
   ]
  },
  {
   "cell_type": "code",
   "execution_count": null,
   "id": "4a785403-e7bc-4253-b98c-f279df145a94",
   "metadata": {},
   "outputs": [],
   "source": [
    "check_root_files(datadir)"
   ]
  },
  {
   "cell_type": "code",
   "execution_count": null,
   "id": "0dcb12e9-8ec6-4b95-90d0-0e46f35b5566",
   "metadata": {},
   "outputs": [],
   "source": "# Create table builder\ntable_builder = DensityPhotonTable3D(\n    energy_min=100,\n    energy_max=2000,\n    energy_step=10\n)\n\n# Build the 3D table\ntable_builder.create_3d_table(datadir)\n\n# Save the table\ntable_builder.save_table(outdir)\n\nprint(\"\\nDone! Density-normalized 3D lookup table created successfully.\")"
  },
  {
   "cell_type": "code",
   "execution_count": null,
   "id": "24624055-3fba-498c-94db-5461a8d7c294",
   "metadata": {},
   "outputs": [],
   "source": [
    "table_builder.visualize_table(outdir)"
   ]
  },
  {
   "cell_type": "code",
   "execution_count": null,
   "id": "ab063b39-a21b-4f0b-9c88-919e241cb2ec",
   "metadata": {},
   "outputs": [],
   "source": []
  }
 ],
 "metadata": {
  "kernelspec": {
   "display_name": "Python 3 (ipykernel)",
   "language": "python",
   "name": "python3"
  },
  "language_info": {
   "codemirror_mode": {
    "name": "ipython",
    "version": 3
   },
   "file_extension": ".py",
   "mimetype": "text/x-python",
   "name": "python",
   "nbconvert_exporter": "python",
   "pygments_lexer": "ipython3",
   "version": "3.11.11"
  }
 },
 "nbformat": 4,
 "nbformat_minor": 5
}